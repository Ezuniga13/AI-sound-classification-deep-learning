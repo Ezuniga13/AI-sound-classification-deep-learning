{
  "nbformat": 4,
  "nbformat_minor": 0,
  "metadata": {
    "accelerator": "GPU",
    "colab": {
      "name": "Project-5.ipynb",
      "provenance": [],
      "collapsed_sections": [],
      "mount_file_id": "1naWXtNt_DVMoXHKf__1LgzfyPpY2maNX",
      "authorship_tag": "ABX9TyPDkXFQZLGwAQJguxR2Tk+S",
      "include_colab_link": true
    },
    "kernelspec": {
      "display_name": "Python 3",
      "name": "python3"
    }
  },
  "cells": [
    {
      "cell_type": "markdown",
      "metadata": {
        "id": "view-in-github",
        "colab_type": "text"
      },
      "source": [
        "<a href=\"https://colab.research.google.com/github/Ezuniga13/AI-sound-classification-deep-learning/blob/main/Project_5.ipynb\" target=\"_parent\"><img src=\"https://colab.research.google.com/assets/colab-badge.svg\" alt=\"Open In Colab\"/></a>"
      ]
    },
    {
      "cell_type": "code",
      "metadata": {
        "id": "xmc9gymwccrd"
      },
      "source": [
        "from google.colab import drive \n",
        "drive.mount('/content/drive')"
      ],
      "execution_count": null,
      "outputs": []
    },
    {
      "cell_type": "code",
      "metadata": {
        "id": "QQJ2dlR2-Jkb"
      },
      "source": [
        "from google.colab import files\n",
        "\n",
        "uploaded = files.upload()\n",
        "\n",
        "for fn in uploaded.keys():\n",
        "  print('User uploaded file \"{name}\" with length {length} bytes'.format(\n",
        "      name=fn, length=len(uploaded[fn])))"
      ],
      "execution_count": null,
      "outputs": []
    },
    {
      "cell_type": "code",
      "metadata": {
        "id": "WpbDx-vf-eJk"
      },
      "source": [
        "import os, shutil\n",
        "import re"
      ],
      "execution_count": null,
      "outputs": []
    },
    {
      "cell_type": "code",
      "metadata": {
        "id": "w9UytD3Ci6o4"
      },
      "source": [
        "dogs_test = os.listdir('/content/drive/My Drive/Project-5-lab-specs/dog-test')"
      ],
      "execution_count": null,
      "outputs": []
    },
    {
      "cell_type": "code",
      "metadata": {
        "colab": {
          "base_uri": "https://localhost:8080/",
          "height": 164
        },
        "id": "U5nallUw8vMH",
        "outputId": "b2a4a4aa-3d81-415b-ef1c-0068a5197621"
      },
      "source": [
        "dogs_test.index('dog_barking_91 2.png')"
      ],
      "execution_count": null,
      "outputs": [
        {
          "output_type": "error",
          "ename": "ValueError",
          "evalue": "ignored",
          "traceback": [
            "\u001b[0;31m---------------------------------------------------------------------------\u001b[0m",
            "\u001b[0;31mValueError\u001b[0m                                Traceback (most recent call last)",
            "\u001b[0;32m<ipython-input-18-fa6a75ca817a>\u001b[0m in \u001b[0;36m<module>\u001b[0;34m()\u001b[0m\n\u001b[0;32m----> 1\u001b[0;31m \u001b[0mdogs_test\u001b[0m\u001b[0;34m.\u001b[0m\u001b[0mindex\u001b[0m\u001b[0;34m(\u001b[0m\u001b[0;34m'dog_barking_91 2.png'\u001b[0m\u001b[0;34m)\u001b[0m\u001b[0;34m\u001b[0m\u001b[0;34m\u001b[0m\u001b[0m\n\u001b[0m",
            "\u001b[0;31mValueError\u001b[0m: 'dog_barking_91 2.png' is not in list"
          ]
        }
      ]
    },
    {
      "cell_type": "code",
      "metadata": {
        "colab": {
          "base_uri": "https://localhost:8080/",
          "height": 35
        },
        "id": "ah4L50v9i_gA",
        "outputId": "f70077cf-e4b8-42df-95d4-c3835fc2dde1"
      },
      "source": [
        "cats_train.pop(56)"
      ],
      "execution_count": null,
      "outputs": [
        {
          "output_type": "execute_result",
          "data": {
            "application/vnd.google.colaboratory.intrinsic+json": {
              "type": "string"
            },
            "text/plain": [
              "'.DS_Store'"
            ]
          },
          "metadata": {
            "tags": []
          },
          "execution_count": 16
        }
      ]
    },
    {
      "cell_type": "code",
      "metadata": {
        "id": "oKJmcDyYaY9U"
      },
      "source": [
        "cats_train = (os.listdir('/content/drive/My Drive/Project-5-lab-specs/cat-train'))"
      ],
      "execution_count": null,
      "outputs": []
    },
    {
      "cell_type": "code",
      "metadata": {
        "id": "HoEj_3n7gvBF"
      },
      "source": [
        "cats_val =  (os.listdir('/content/drive/My Drive/Project-5-lab-specs/cat-val'))"
      ],
      "execution_count": null,
      "outputs": []
    },
    {
      "cell_type": "code",
      "metadata": {
        "colab": {
          "base_uri": "https://localhost:8080/",
          "height": 34
        },
        "id": "CrqWSYGDg4IE",
        "outputId": "ab9b4659-ce9c-4f09-cc24-a8fd5101a6dc"
      },
      "source": [
        "cats_test = (os.listdir('/content/drive/My Drive/Project-5-lab-specs/cat-test'))\n",
        "len(cats_test)"
      ],
      "execution_count": null,
      "outputs": [
        {
          "output_type": "execute_result",
          "data": {
            "text/plain": [
              "39"
            ]
          },
          "metadata": {
            "tags": []
          },
          "execution_count": 8
        }
      ]
    },
    {
      "cell_type": "code",
      "metadata": {
        "colab": {
          "base_uri": "https://localhost:8080/",
          "height": 34
        },
        "id": "HcevGZg0znXx",
        "outputId": "58142a7b-ef31-4cca-a5f5-bd4790bda88b"
      },
      "source": [
        "dogs_train = (os.listdir('/content/drive/My Drive/Project-5-lab-specs/dog-train'))\n",
        "len(dogs_train)"
      ],
      "execution_count": null,
      "outputs": [
        {
          "output_type": "execute_result",
          "data": {
            "text/plain": [
              "88"
            ]
          },
          "metadata": {
            "tags": []
          },
          "execution_count": 10
        }
      ]
    },
    {
      "cell_type": "code",
      "metadata": {
        "id": "bghX3cDz0OUt"
      },
      "source": [
        "dogs_val = (os.listdir('/content/drive/My Drive/Project-5-lab-specs/dog-val'))"
      ],
      "execution_count": null,
      "outputs": []
    },
    {
      "cell_type": "code",
      "metadata": {
        "colab": {
          "base_uri": "https://localhost:8080/",
          "height": 34
        },
        "id": "ZSruvnpnz2jg",
        "outputId": "e877517b-409f-4de9-e3a3-102a2eb3efc2"
      },
      "source": [
        "len(train_cats_dir)"
      ],
      "execution_count": null,
      "outputs": [
        {
          "output_type": "execute_result",
          "data": {
            "text/plain": [
              "74"
            ]
          },
          "metadata": {
            "tags": []
          },
          "execution_count": 19
        }
      ]
    },
    {
      "cell_type": "code",
      "metadata": {
        "id": "DFfGxt4plpwB"
      },
      "source": [
        "# The path to the directory where the original\n",
        "# dataset was uncompressed\n",
        "original_dataset_dir = '/content/drive/My Drive/Project-5-lab-specs/original_data_specs'\n",
        "\n",
        "# The directory where we will\n",
        "# store our smaller dataset\n",
        "base_dir = '/content/drive/My Drive/Project-5-lab-specs/cats_and_dogs_small'\n",
        "#os.mkdir(base_dir)"
      ],
      "execution_count": null,
      "outputs": []
    },
    {
      "cell_type": "code",
      "metadata": {
        "id": "g6AWfp9ulhmu"
      },
      "source": [
        "# Directories for our training,\n",
        "# validation and test splits\n",
        "train_dir = '/content/drive/My Drive/Project-5-lab-specs/cats_and_dogs_small/train'\n",
        "#os.mkdir(train_dir)\n",
        "validation_dir = '/content/drive/My Drive/Project-5-lab-specs/cats_and_dogs_small/validation'\n",
        "#os.mkdir(validation_dir)\n",
        "test_dir = '/content/drive/My Drive/Project-5-lab-specs/cats_and_dogs_small/test'\n",
        "#os.mkdir(test_dir)\n",
        "\n",
        "# Directory with our training cat pictures\n",
        "train_cats_dir = '/content/drive/My Drive/Project-5-lab-specs/cats_and_dogs_small/train/cats'\n",
        "#os.mkdir(train_cats_dir)\n",
        "\n",
        "# Directory with our training dog pictures\n",
        "train_dogs_dir = '/content/drive/My Drive/Project-5-lab-specs/cats_and_dogs_small/train/dogs'\n",
        "#os.mkdir(train_dogs_dir)\n",
        "\n",
        "# Directory with our validation cat pictures\n",
        "validation_cats_dir = '/content/drive/My Drive/Project-5-lab-specs/cats_and_dogs_small/validation/cats'\n",
        "#os.mkdir(validation_cats_dir)\n",
        "\n",
        "# Directory with our validation dog pictures\n",
        "validation_dogs_dir = '/content/drive/My Drive/Project-5-lab-specs/cats_and_dogs_small/validation/dogs'\n",
        "#os.mkdir(validation_dogs_dir)\n",
        "\n",
        "# Directory with our test cat pictures\n",
        "test_cats_dir = '/content/drive/My Drive/Project-5-lab-specs/cats_and_dogs_small/test/cats'\n",
        "#os.mkdir(test_cats_dir)\n",
        "\n",
        "# Directory with our test dog pictures\n",
        "test_dogs_dir = '/content/drive/My Drive/Project-5-lab-specs/cats_and_dogs_small/test/dogs'\n",
        "#os.mkdir(test_dogs_dir)\n",
        "\n"
      ],
      "execution_count": null,
      "outputs": []
    },
    {
      "cell_type": "code",
      "metadata": {
        "id": "gljx7TmgsS3w"
      },
      "source": [
        "# copy 100 cat images to train_cats_dir\n",
        "fnames = [cat for cat in cats_train ]\n",
        "for fname in fnames:\n",
        "    src = os.path.join(original_dataset_dir, fname)\n",
        "    dst = os.path.join(train_cats_dir, fname)\n",
        "    shutil.copyfile(src, dst)"
      ],
      "execution_count": null,
      "outputs": []
    },
    {
      "cell_type": "code",
      "metadata": {
        "id": "NdWqzSN61BAm"
      },
      "source": [
        "# Copy next 25 cat images to validation_cats_dir\n",
        "fnames = [cat for cat in cats_val]\n",
        "for fname in fnames:\n",
        "    src = os.path.join(original_dataset_dir, fname)\n",
        "    dst = os.path.join(validation_cats_dir, fname)\n",
        "    shutil.copyfile(src, dst)\n",
        "    "
      ],
      "execution_count": null,
      "outputs": []
    },
    {
      "cell_type": "code",
      "metadata": {
        "id": "flyuj_371kz8"
      },
      "source": [
        "# Copy next 39 cat images to test_cats_dir\n",
        "fnames = [cat for cat in cats_test]\n",
        "for fname in fnames:\n",
        "    src = os.path.join(original_dataset_dir, fname)\n",
        "    dst = os.path.join(test_cats_dir, fname)\n",
        "    shutil.copyfile(src, dst)"
      ],
      "execution_count": null,
      "outputs": []
    },
    {
      "cell_type": "code",
      "metadata": {
        "colab": {
          "base_uri": "https://localhost:8080/",
          "height": 232
        },
        "id": "yPtdXXMu4Ms8",
        "outputId": "e9ebef6e-2e6e-443d-cb05-4908c9bbcc7c"
      },
      "source": [
        "# Copy first 88 dog images to train_dogs_dir\n",
        "fnames = [dog for dog in dogs_train]\n",
        "for fname in fnames:\n",
        "    src = os.path.join(original_dataset_dir, fname)\n",
        "    dst = os.path.join(train_dogs_dir, fname)\n",
        "    shutil.copyfile(src, dst)\n",
        "    "
      ],
      "execution_count": null,
      "outputs": [
        {
          "output_type": "error",
          "ename": "NameError",
          "evalue": "ignored",
          "traceback": [
            "\u001b[0;31m---------------------------------------------------------------------------\u001b[0m",
            "\u001b[0;31mNameError\u001b[0m                                 Traceback (most recent call last)",
            "\u001b[0;32m<ipython-input-24-459c14af48fb>\u001b[0m in \u001b[0;36m<module>\u001b[0;34m()\u001b[0m\n\u001b[1;32m      1\u001b[0m \u001b[0;31m# Copy first 88 dog images to train_dogs_dir\u001b[0m\u001b[0;34m\u001b[0m\u001b[0;34m\u001b[0m\u001b[0;34m\u001b[0m\u001b[0m\n\u001b[0;32m----> 2\u001b[0;31m \u001b[0mfnames\u001b[0m \u001b[0;34m=\u001b[0m \u001b[0;34m[\u001b[0m\u001b[0mdog\u001b[0m \u001b[0;32mfor\u001b[0m \u001b[0mdog\u001b[0m \u001b[0;32min\u001b[0m \u001b[0mdogs_train\u001b[0m\u001b[0;34m]\u001b[0m\u001b[0;34m\u001b[0m\u001b[0;34m\u001b[0m\u001b[0m\n\u001b[0m\u001b[1;32m      3\u001b[0m \u001b[0;32mfor\u001b[0m \u001b[0mfname\u001b[0m \u001b[0;32min\u001b[0m \u001b[0mfnames\u001b[0m\u001b[0;34m:\u001b[0m\u001b[0;34m\u001b[0m\u001b[0;34m\u001b[0m\u001b[0m\n\u001b[1;32m      4\u001b[0m     \u001b[0msrc\u001b[0m \u001b[0;34m=\u001b[0m \u001b[0mos\u001b[0m\u001b[0;34m.\u001b[0m\u001b[0mpath\u001b[0m\u001b[0;34m.\u001b[0m\u001b[0mjoin\u001b[0m\u001b[0;34m(\u001b[0m\u001b[0moriginal_dataset_dir\u001b[0m\u001b[0;34m,\u001b[0m \u001b[0mfname\u001b[0m\u001b[0;34m)\u001b[0m\u001b[0;34m\u001b[0m\u001b[0;34m\u001b[0m\u001b[0m\n\u001b[1;32m      5\u001b[0m     \u001b[0mdst\u001b[0m \u001b[0;34m=\u001b[0m \u001b[0mos\u001b[0m\u001b[0;34m.\u001b[0m\u001b[0mpath\u001b[0m\u001b[0;34m.\u001b[0m\u001b[0mjoin\u001b[0m\u001b[0;34m(\u001b[0m\u001b[0mtrain_dogs_dir\u001b[0m\u001b[0;34m,\u001b[0m \u001b[0mfname\u001b[0m\u001b[0;34m)\u001b[0m\u001b[0;34m\u001b[0m\u001b[0;34m\u001b[0m\u001b[0m\n",
            "\u001b[0;31mNameError\u001b[0m: name 'dogs_train' is not defined"
          ]
        }
      ]
    },
    {
      "cell_type": "code",
      "metadata": {
        "colab": {
          "base_uri": "https://localhost:8080/",
          "height": 232
        },
        "id": "WF2PwOOG5Yke",
        "outputId": "81b21252-12a3-4934-cc1d-e3de56107684"
      },
      "source": [
        "# Copy next 28 dog images to validation_dogs_dir\n",
        "fnames = [dog for dog in dogs_val]\n",
        "for fname in fnames:\n",
        "    src = os.path.join(original_dataset_dir, fname)\n",
        "    dst = os.path.join(validation_dogs_dir, fname)\n",
        "    shutil.copyfile(src, dst)"
      ],
      "execution_count": null,
      "outputs": [
        {
          "output_type": "error",
          "ename": "NameError",
          "evalue": "ignored",
          "traceback": [
            "\u001b[0;31m---------------------------------------------------------------------------\u001b[0m",
            "\u001b[0;31mNameError\u001b[0m                                 Traceback (most recent call last)",
            "\u001b[0;32m<ipython-input-19-ae08e83e097a>\u001b[0m in \u001b[0;36m<module>\u001b[0;34m()\u001b[0m\n\u001b[1;32m      1\u001b[0m \u001b[0;31m# Copy next 28 dog images to validation_dogs_dir\u001b[0m\u001b[0;34m\u001b[0m\u001b[0;34m\u001b[0m\u001b[0;34m\u001b[0m\u001b[0m\n\u001b[0;32m----> 2\u001b[0;31m \u001b[0mfnames\u001b[0m \u001b[0;34m=\u001b[0m \u001b[0;34m[\u001b[0m\u001b[0mdog\u001b[0m \u001b[0;32mfor\u001b[0m \u001b[0mdog\u001b[0m \u001b[0;32min\u001b[0m \u001b[0mdogs_val\u001b[0m\u001b[0;34m]\u001b[0m\u001b[0;34m\u001b[0m\u001b[0;34m\u001b[0m\u001b[0m\n\u001b[0m\u001b[1;32m      3\u001b[0m \u001b[0;32mfor\u001b[0m \u001b[0mfname\u001b[0m \u001b[0;32min\u001b[0m \u001b[0mfnames\u001b[0m\u001b[0;34m:\u001b[0m\u001b[0;34m\u001b[0m\u001b[0;34m\u001b[0m\u001b[0m\n\u001b[1;32m      4\u001b[0m     \u001b[0msrc\u001b[0m \u001b[0;34m=\u001b[0m \u001b[0mos\u001b[0m\u001b[0;34m.\u001b[0m\u001b[0mpath\u001b[0m\u001b[0;34m.\u001b[0m\u001b[0mjoin\u001b[0m\u001b[0;34m(\u001b[0m\u001b[0moriginal_dataset_dir\u001b[0m\u001b[0;34m,\u001b[0m \u001b[0mfname\u001b[0m\u001b[0;34m)\u001b[0m\u001b[0;34m\u001b[0m\u001b[0;34m\u001b[0m\u001b[0m\n\u001b[1;32m      5\u001b[0m     \u001b[0mdst\u001b[0m \u001b[0;34m=\u001b[0m \u001b[0mos\u001b[0m\u001b[0;34m.\u001b[0m\u001b[0mpath\u001b[0m\u001b[0;34m.\u001b[0m\u001b[0mjoin\u001b[0m\u001b[0;34m(\u001b[0m\u001b[0mvalidation_dogs_dir\u001b[0m\u001b[0;34m,\u001b[0m \u001b[0mfname\u001b[0m\u001b[0;34m)\u001b[0m\u001b[0;34m\u001b[0m\u001b[0;34m\u001b[0m\u001b[0m\n",
            "\u001b[0;31mNameError\u001b[0m: name 'dogs_val' is not defined"
          ]
        }
      ]
    },
    {
      "cell_type": "code",
      "metadata": {
        "colab": {
          "base_uri": "https://localhost:8080/",
          "height": 317
        },
        "id": "LaoOOzO52elW",
        "outputId": "7e2e2182-2f85-4761-8d5d-bf149a7918ac"
      },
      "source": [
        "\n",
        "#######-------------->>>>>>> Need more data for test\n",
        "\n",
        "\n",
        "    \n",
        "\n",
        "# Copy next 500 dog images to test_dogs_dir\n",
        "fnames = [dog for dog in dogs_test]\n",
        "for fname in fnames:\n",
        "    src = os.path.join(original_dataset_dir, fname)\n",
        "    dst = os.path.join(test_dogs_dir, fname)\n",
        "    shutil.copyfile(src, dst)"
      ],
      "execution_count": null,
      "outputs": [
        {
          "output_type": "error",
          "ename": "FileNotFoundError",
          "evalue": "ignored",
          "traceback": [
            "\u001b[0;31m---------------------------------------------------------------------------\u001b[0m",
            "\u001b[0;31mFileNotFoundError\u001b[0m                         Traceback (most recent call last)",
            "\u001b[0;32m<ipython-input-20-ec1568607a82>\u001b[0m in \u001b[0;36m<module>\u001b[0;34m()\u001b[0m\n\u001b[1;32m     10\u001b[0m     \u001b[0msrc\u001b[0m \u001b[0;34m=\u001b[0m \u001b[0mos\u001b[0m\u001b[0;34m.\u001b[0m\u001b[0mpath\u001b[0m\u001b[0;34m.\u001b[0m\u001b[0mjoin\u001b[0m\u001b[0;34m(\u001b[0m\u001b[0moriginal_dataset_dir\u001b[0m\u001b[0;34m,\u001b[0m \u001b[0mfname\u001b[0m\u001b[0;34m)\u001b[0m\u001b[0;34m\u001b[0m\u001b[0;34m\u001b[0m\u001b[0m\n\u001b[1;32m     11\u001b[0m     \u001b[0mdst\u001b[0m \u001b[0;34m=\u001b[0m \u001b[0mos\u001b[0m\u001b[0;34m.\u001b[0m\u001b[0mpath\u001b[0m\u001b[0;34m.\u001b[0m\u001b[0mjoin\u001b[0m\u001b[0;34m(\u001b[0m\u001b[0mtest_dogs_dir\u001b[0m\u001b[0;34m,\u001b[0m \u001b[0mfname\u001b[0m\u001b[0;34m)\u001b[0m\u001b[0;34m\u001b[0m\u001b[0;34m\u001b[0m\u001b[0m\n\u001b[0;32m---> 12\u001b[0;31m     \u001b[0mshutil\u001b[0m\u001b[0;34m.\u001b[0m\u001b[0mcopyfile\u001b[0m\u001b[0;34m(\u001b[0m\u001b[0msrc\u001b[0m\u001b[0;34m,\u001b[0m \u001b[0mdst\u001b[0m\u001b[0;34m)\u001b[0m\u001b[0;34m\u001b[0m\u001b[0;34m\u001b[0m\u001b[0m\n\u001b[0m",
            "\u001b[0;32m/usr/lib/python3.6/shutil.py\u001b[0m in \u001b[0;36mcopyfile\u001b[0;34m(src, dst, follow_symlinks)\u001b[0m\n\u001b[1;32m    118\u001b[0m         \u001b[0mos\u001b[0m\u001b[0;34m.\u001b[0m\u001b[0msymlink\u001b[0m\u001b[0;34m(\u001b[0m\u001b[0mos\u001b[0m\u001b[0;34m.\u001b[0m\u001b[0mreadlink\u001b[0m\u001b[0;34m(\u001b[0m\u001b[0msrc\u001b[0m\u001b[0;34m)\u001b[0m\u001b[0;34m,\u001b[0m \u001b[0mdst\u001b[0m\u001b[0;34m)\u001b[0m\u001b[0;34m\u001b[0m\u001b[0;34m\u001b[0m\u001b[0m\n\u001b[1;32m    119\u001b[0m     \u001b[0;32melse\u001b[0m\u001b[0;34m:\u001b[0m\u001b[0;34m\u001b[0m\u001b[0;34m\u001b[0m\u001b[0m\n\u001b[0;32m--> 120\u001b[0;31m         \u001b[0;32mwith\u001b[0m \u001b[0mopen\u001b[0m\u001b[0;34m(\u001b[0m\u001b[0msrc\u001b[0m\u001b[0;34m,\u001b[0m \u001b[0;34m'rb'\u001b[0m\u001b[0;34m)\u001b[0m \u001b[0;32mas\u001b[0m \u001b[0mfsrc\u001b[0m\u001b[0;34m:\u001b[0m\u001b[0;34m\u001b[0m\u001b[0;34m\u001b[0m\u001b[0m\n\u001b[0m\u001b[1;32m    121\u001b[0m             \u001b[0;32mwith\u001b[0m \u001b[0mopen\u001b[0m\u001b[0;34m(\u001b[0m\u001b[0mdst\u001b[0m\u001b[0;34m,\u001b[0m \u001b[0;34m'wb'\u001b[0m\u001b[0;34m)\u001b[0m \u001b[0;32mas\u001b[0m \u001b[0mfdst\u001b[0m\u001b[0;34m:\u001b[0m\u001b[0;34m\u001b[0m\u001b[0;34m\u001b[0m\u001b[0m\n\u001b[1;32m    122\u001b[0m                 \u001b[0mcopyfileobj\u001b[0m\u001b[0;34m(\u001b[0m\u001b[0mfsrc\u001b[0m\u001b[0;34m,\u001b[0m \u001b[0mfdst\u001b[0m\u001b[0;34m)\u001b[0m\u001b[0;34m\u001b[0m\u001b[0;34m\u001b[0m\u001b[0m\n",
            "\u001b[0;31mFileNotFoundError\u001b[0m: [Errno 2] No such file or directory: '/content/drive/My Drive/Project-5-lab-specs/original_data_specs/.ipynb_checkpoints'"
          ]
        }
      ]
    },
    {
      "cell_type": "code",
      "metadata": {
        "id": "vaU5xnhgLfIO"
      },
      "source": [
        "from keras import layers\n",
        "from keras import models\n",
        "\n",
        "model = models.Sequential()\n",
        "model.add(layers.Conv2D(32, (3,3), activation='relu',\n",
        "                         input_shape=(150, 150, 3)))\n",
        "model.add(layers.MaxPooling2D((2, 2)))\n",
        "model.add(layers.Conv2D(64, (3, 3), activation='relu'))\n",
        "model.add(layers.MaxPooling2D((2, 2)))\n",
        "model.add(layers.Conv2D(128, (3, 3), activation='relu'))\n",
        "model.add(layers.MaxPooling2D((2, 2)))\n",
        "model.add(layers.Conv2D(128, (3, 3), activation='relu'))\n",
        "model.add(layers.MaxPooling2D((2, 2)))\n",
        "model.add(layers.Flatten())\n",
        "model.add(layers.Dense(512, activation='relu'))\n",
        "model.add(layers.Dense(1, activation='sigmoid'))"
      ],
      "execution_count": null,
      "outputs": []
    },
    {
      "cell_type": "code",
      "metadata": {
        "colab": {
          "base_uri": "https://localhost:8080/",
          "height": 527
        },
        "id": "JWV5XFrHMT4h",
        "outputId": "9b64e839-1b0f-4da3-bf5f-00e7c9510fca"
      },
      "source": [
        "model.summary()"
      ],
      "execution_count": null,
      "outputs": [
        {
          "output_type": "stream",
          "text": [
            "Model: \"sequential\"\n",
            "_________________________________________________________________\n",
            "Layer (type)                 Output Shape              Param #   \n",
            "=================================================================\n",
            "conv2d (Conv2D)              (None, 148, 148, 32)      896       \n",
            "_________________________________________________________________\n",
            "max_pooling2d (MaxPooling2D) (None, 74, 74, 32)        0         \n",
            "_________________________________________________________________\n",
            "conv2d_1 (Conv2D)            (None, 72, 72, 64)        18496     \n",
            "_________________________________________________________________\n",
            "max_pooling2d_1 (MaxPooling2 (None, 36, 36, 64)        0         \n",
            "_________________________________________________________________\n",
            "conv2d_2 (Conv2D)            (None, 34, 34, 128)       73856     \n",
            "_________________________________________________________________\n",
            "max_pooling2d_2 (MaxPooling2 (None, 17, 17, 128)       0         \n",
            "_________________________________________________________________\n",
            "conv2d_3 (Conv2D)            (None, 15, 15, 128)       147584    \n",
            "_________________________________________________________________\n",
            "max_pooling2d_3 (MaxPooling2 (None, 7, 7, 128)         0         \n",
            "_________________________________________________________________\n",
            "flatten (Flatten)            (None, 6272)              0         \n",
            "_________________________________________________________________\n",
            "dense (Dense)                (None, 512)               3211776   \n",
            "_________________________________________________________________\n",
            "dense_1 (Dense)              (None, 1)                 513       \n",
            "=================================================================\n",
            "Total params: 3,453,121\n",
            "Trainable params: 3,453,121\n",
            "Non-trainable params: 0\n",
            "_________________________________________________________________\n"
          ],
          "name": "stdout"
        }
      ]
    },
    {
      "cell_type": "code",
      "metadata": {
        "id": "Mjg4r7WxPCr-"
      },
      "source": [
        "from keras import optimizers\n",
        "\n",
        "model.compile(loss='binary_crossentropy',\n",
        "              optimizer=optimizers.RMSprop(learning_rate=4),\n",
        "              metrics=['acc'])"
      ],
      "execution_count": null,
      "outputs": []
    },
    {
      "cell_type": "code",
      "metadata": {
        "colab": {
          "base_uri": "https://localhost:8080/",
          "height": 232
        },
        "id": "b6tN2Y3rPqgr",
        "outputId": "17262c3d-1d31-4a7d-a565-89921750a418"
      },
      "source": [
        "from keras.preprocessing.image import ImageDataGenerator\n",
        "\n",
        "# All images will be rescaled by 1./4554\n",
        "train_datagen = ImageDataGenerator(rescale=1./255)\n",
        "test_datagen = ImageDataGenerator(rescale=1./255)\n",
        "\n",
        "train_generator = train_datagen.flow_from_directory(\n",
        "    # target directory\n",
        "    train_dir,\n",
        "    # resize images to 150 x 150\n",
        "    target_size=(150, 150),\n",
        "    batch_size=5,\n",
        "    # we use binary_crossntropy loss, we need binary labels\n",
        "    class_mode='binary')\n",
        "\n",
        "validation_generator = test_datagen.flow_from_directory(\n",
        "    validation_dir,\n",
        "    target_size=(150, 150),\n",
        "    batch_size=5,\n",
        "    class_mode='binary')\n",
        "\n"
      ],
      "execution_count": null,
      "outputs": [
        {
          "output_type": "error",
          "ename": "NameError",
          "evalue": "ignored",
          "traceback": [
            "\u001b[0;31m---------------------------------------------------------------------------\u001b[0m",
            "\u001b[0;31mNameError\u001b[0m                                 Traceback (most recent call last)",
            "\u001b[0;32m<ipython-input-1-1c51c1b8acad>\u001b[0m in \u001b[0;36m<module>\u001b[0;34m()\u001b[0m\n\u001b[1;32m      7\u001b[0m train_generator = train_datagen.flow_from_directory(\n\u001b[1;32m      8\u001b[0m     \u001b[0;31m# target directory\u001b[0m\u001b[0;34m\u001b[0m\u001b[0;34m\u001b[0m\u001b[0;34m\u001b[0m\u001b[0m\n\u001b[0;32m----> 9\u001b[0;31m     \u001b[0mtrain_dir\u001b[0m\u001b[0;34m,\u001b[0m\u001b[0;34m\u001b[0m\u001b[0;34m\u001b[0m\u001b[0m\n\u001b[0m\u001b[1;32m     10\u001b[0m     \u001b[0;31m# resize images to 150 x 150\u001b[0m\u001b[0;34m\u001b[0m\u001b[0;34m\u001b[0m\u001b[0;34m\u001b[0m\u001b[0m\n\u001b[1;32m     11\u001b[0m     \u001b[0mtarget_size\u001b[0m\u001b[0;34m=\u001b[0m\u001b[0;34m(\u001b[0m\u001b[0;36m150\u001b[0m\u001b[0;34m,\u001b[0m \u001b[0;36m150\u001b[0m\u001b[0;34m)\u001b[0m\u001b[0;34m,\u001b[0m\u001b[0;34m\u001b[0m\u001b[0;34m\u001b[0m\u001b[0m\n",
            "\u001b[0;31mNameError\u001b[0m: name 'train_dir' is not defined"
          ]
        }
      ]
    },
    {
      "cell_type": "code",
      "metadata": {
        "colab": {
          "base_uri": "https://localhost:8080/",
          "height": 51
        },
        "id": "u_XvBe77Yi4T",
        "outputId": "5163aab0-7442-482b-f353-feaff0a5cd77"
      },
      "source": [
        "for data_batch, labels_batch in train_generator:\n",
        "  print('data batch shape:', data_batch.shape)\n",
        "  print('labels batch shape:', labels_batch.shape)\n",
        "  break"
      ],
      "execution_count": null,
      "outputs": [
        {
          "output_type": "stream",
          "text": [
            "data batch shape: (5, 150, 150, 3)\n",
            "labels batch shape: (5,)\n"
          ],
          "name": "stdout"
        }
      ]
    },
    {
      "cell_type": "code",
      "metadata": {
        "colab": {
          "base_uri": "https://localhost:8080/",
          "height": 697
        },
        "id": "gCPsQWrn7Ifb",
        "outputId": "d6889e88-8ccb-4da6-f207-0c07d85106dc"
      },
      "source": [
        "history = model.fit(\n",
        "    train_generator,\n",
        "    steps_per_epoch = 5,\n",
        "    epochs=20,\n",
        "    validation_data= validation_generator,\n",
        "    validation_steps=3\n",
        ")"
      ],
      "execution_count": null,
      "outputs": [
        {
          "output_type": "stream",
          "text": [
            "Epoch 1/20\n",
            "5/5 [==============================] - 0s 54ms/step - loss: 0.6616 - acc: 0.6522 - val_loss: 2213067.5000 - val_acc: 0.4000\n",
            "Epoch 2/20\n",
            "5/5 [==============================] - 0s 47ms/step - loss: 0.6508 - acc: 0.6957 - val_loss: 1.8256 - val_acc: 0.4000\n",
            "Epoch 3/20\n",
            "5/5 [==============================] - 0s 49ms/step - loss: 1.9529 - acc: 0.4000 - val_loss: 0.8141 - val_acc: 0.4667\n",
            "Epoch 4/20\n",
            "5/5 [==============================] - 0s 47ms/step - loss: 0.8239 - acc: 0.5200 - val_loss: 0.5810 - val_acc: 0.7333\n",
            "Epoch 5/20\n",
            "5/5 [==============================] - 0s 52ms/step - loss: 0.9168 - acc: 0.5600 - val_loss: 1.6556 - val_acc: 0.3333\n",
            "Epoch 6/20\n",
            "5/5 [==============================] - 0s 50ms/step - loss: 1.3114 - acc: 0.5200 - val_loss: 0.9533 - val_acc: 0.4667\n",
            "Epoch 7/20\n",
            "5/5 [==============================] - 0s 50ms/step - loss: 0.5906 - acc: 0.6522 - val_loss: 2213068.0000 - val_acc: 0.5333\n",
            "Epoch 8/20\n",
            "5/5 [==============================] - 0s 53ms/step - loss: 1.2107 - acc: 0.6000 - val_loss: 0.7949 - val_acc: 0.4667\n",
            "Epoch 9/20\n",
            "5/5 [==============================] - 0s 48ms/step - loss: 0.9505 - acc: 0.5600 - val_loss: 1.1668 - val_acc: 0.5333\n",
            "Epoch 10/20\n",
            "5/5 [==============================] - 0s 51ms/step - loss: 1.4061 - acc: 0.5200 - val_loss: 0.6869 - val_acc: 0.7333\n",
            "Epoch 11/20\n",
            "5/5 [==============================] - 0s 55ms/step - loss: 0.8718 - acc: 0.6400 - val_loss: 0.8241 - val_acc: 0.5333\n",
            "Epoch 12/20\n",
            "5/5 [==============================] - 0s 51ms/step - loss: 1.2398 - acc: 0.4400 - val_loss: 2.0165 - val_acc: 0.4000\n",
            "Epoch 13/20\n",
            "5/5 [==============================] - 0s 48ms/step - loss: 0.8101 - acc: 0.6000 - val_loss: 2.1113 - val_acc: 0.4000\n",
            "Epoch 14/20\n",
            "5/5 [==============================] - 0s 49ms/step - loss: 2.0236 - acc: 0.3600 - val_loss: 0.6801 - val_acc: 0.6000\n",
            "Epoch 15/20\n",
            "5/5 [==============================] - 0s 46ms/step - loss: 0.6820 - acc: 0.6087 - val_loss: 1.2209 - val_acc: 0.5333\n",
            "Epoch 16/20\n",
            "5/5 [==============================] - 0s 53ms/step - loss: 1.5622 - acc: 0.4800 - val_loss: 1.0295 - val_acc: 0.3333\n",
            "Epoch 17/20\n",
            "5/5 [==============================] - 0s 51ms/step - loss: 0.6159 - acc: 0.7200 - val_loss: 1.3683 - val_acc: 0.4667\n",
            "Epoch 18/20\n",
            "5/5 [==============================] - 0s 48ms/step - loss: 0.8148 - acc: 0.5600 - val_loss: 2213068.5000 - val_acc: 0.4667\n",
            "Epoch 19/20\n",
            "5/5 [==============================] - 0s 47ms/step - loss: 1.9389 - acc: 0.3913 - val_loss: 0.9299 - val_acc: 0.2667\n",
            "Epoch 20/20\n",
            "5/5 [==============================] - 0s 50ms/step - loss: 1.4355 - acc: 0.5200 - val_loss: 0.8992 - val_acc: 0.4667\n"
          ],
          "name": "stdout"
        }
      ]
    },
    {
      "cell_type": "code",
      "metadata": {
        "id": "mKh-si73-heh"
      },
      "source": [
        "model.save('cats_and_dogs_small_1.h5')\n"
      ],
      "execution_count": null,
      "outputs": []
    },
    {
      "cell_type": "code",
      "metadata": {
        "colab": {
          "base_uri": "https://localhost:8080/",
          "height": 545
        },
        "id": "PuX3xzZpzrbV",
        "outputId": "3238e95d-f7ea-469d-d88e-5a399e6494ec"
      },
      "source": [
        "import matplotlib.pyplot as plt\n",
        "\n",
        "acc = history.history['acc']\n",
        "val_acc = history.history['val_acc']\n",
        "loss = history.history['loss']\n",
        "val_loss = history.history['val_loss']\n",
        "\n",
        "epochs = range(len(acc))\n",
        "\n",
        "plt.plot(epochs, acc, 'bo', label='Training acc')\n",
        "plt.plot(epochs, val_acc, 'b', label='Validation acc')\n",
        "plt.title('Training and validation accuracy')\n",
        "plt.legend()\n",
        "\n",
        "plt.figure()\n",
        "\n",
        "plt.plot(epochs, loss, 'bo', label='Training loss')\n",
        "plt.plot(epochs, val_loss, 'b', label='Validation loss')\n",
        "plt.title('Training and validation loss')\n",
        "plt.legend()\n",
        "\n",
        "plt.show()\n"
      ],
      "execution_count": null,
      "outputs": [
        {
          "output_type": "display_data",
          "data": {
            "image/png": "[encoded data removed]",
            "text/plain": [
              "<Figure size 432x288 with 1 Axes>"
            ]
          },
          "metadata": {
            "tags": []
          }
        },
        {
          "output_type": "display_data",
          "data": {
            "image/png": "[encoded data removed]",
            "text/plain": [
              "<Figure size 432x288 with 1 Axes>"
            ]
          },
          "metadata": {
            "tags": []
          }
        }
      ]
    },
    {
      "cell_type": "code",
      "metadata": {
        "colab": {
          "base_uri": "https://localhost:8080/",
          "height": 51
        },
        "id": "w2AfxbiCzxpi",
        "outputId": "698e8553-c8ff-4518-bfed-71cb12bdafd6"
      },
      "source": [
        "### now feature extraction using a pre-trained model\n",
        "\n",
        "from keras.applications import VGG16\n",
        "\n",
        "conv_base = VGG16(weights='imagenet',\n",
        "                  include_top=False,\n",
        "                  input_shape=(150, 150, 3))"
      ],
      "execution_count": null,
      "outputs": [
        {
          "output_type": "stream",
          "text": [
            "Downloading data from https://storage.googleapis.com/tensorflow/keras-applications/vgg16/vgg16_weights_tf_dim_ordering_tf_kernels_notop.h5\n",
            "58892288/58889256 [==============================] - 1s 0us/step\n"
          ],
          "name": "stdout"
        }
      ]
    },
    {
      "cell_type": "code",
      "metadata": {
        "colab": {
          "base_uri": "https://localhost:8080/",
          "height": 799
        },
        "id": "MobXvz7w287Z",
        "outputId": "b22fca84-a538-4d0a-dac0-17872cba2322"
      },
      "source": [
        "\n",
        "conv_base.summary()"
      ],
      "execution_count": null,
      "outputs": [
        {
          "output_type": "stream",
          "text": [
            "Model: \"vgg16\"\n",
            "_________________________________________________________________\n",
            "Layer (type)                 Output Shape              Param #   \n",
            "=================================================================\n",
            "input_1 (InputLayer)         [(None, 150, 150, 3)]     0         \n",
            "_________________________________________________________________\n",
            "block1_conv1 (Conv2D)        (None, 150, 150, 64)      1792      \n",
            "_________________________________________________________________\n",
            "block1_conv2 (Conv2D)        (None, 150, 150, 64)      36928     \n",
            "_________________________________________________________________\n",
            "block1_pool (MaxPooling2D)   (None, 75, 75, 64)        0         \n",
            "_________________________________________________________________\n",
            "block2_conv1 (Conv2D)        (None, 75, 75, 128)       73856     \n",
            "_________________________________________________________________\n",
            "block2_conv2 (Conv2D)        (None, 75, 75, 128)       147584    \n",
            "_________________________________________________________________\n",
            "block2_pool (MaxPooling2D)   (None, 37, 37, 128)       0         \n",
            "_________________________________________________________________\n",
            "block3_conv1 (Conv2D)        (None, 37, 37, 256)       295168    \n",
            "_________________________________________________________________\n",
            "block3_conv2 (Conv2D)        (None, 37, 37, 256)       590080    \n",
            "_________________________________________________________________\n",
            "block3_conv3 (Conv2D)        (None, 37, 37, 256)       590080    \n",
            "_________________________________________________________________\n",
            "block3_pool (MaxPooling2D)   (None, 18, 18, 256)       0         \n",
            "_________________________________________________________________\n",
            "block4_conv1 (Conv2D)        (None, 18, 18, 512)       1180160   \n",
            "_________________________________________________________________\n",
            "block4_conv2 (Conv2D)        (None, 18, 18, 512)       2359808   \n",
            "_________________________________________________________________\n",
            "block4_conv3 (Conv2D)        (None, 18, 18, 512)       2359808   \n",
            "_________________________________________________________________\n",
            "block4_pool (MaxPooling2D)   (None, 9, 9, 512)         0         \n",
            "_________________________________________________________________\n",
            "block5_conv1 (Conv2D)        (None, 9, 9, 512)         2359808   \n",
            "_________________________________________________________________\n",
            "block5_conv2 (Conv2D)        (None, 9, 9, 512)         2359808   \n",
            "_________________________________________________________________\n",
            "block5_conv3 (Conv2D)        (None, 9, 9, 512)         2359808   \n",
            "_________________________________________________________________\n",
            "block5_pool (MaxPooling2D)   (None, 4, 4, 512)         0         \n",
            "=================================================================\n",
            "Total params: 14,714,688\n",
            "Trainable params: 14,714,688\n",
            "Non-trainable params: 0\n",
            "_________________________________________________________________\n"
          ],
          "name": "stdout"
        }
      ]
    },
    {
      "cell_type": "code",
      "metadata": {
        "colab": {
          "base_uri": "https://localhost:8080/",
          "height": 68
        },
        "id": "sDQCI2ou3EUa",
        "outputId": "84330bd1-899e-4108-bb2f-a59e01d7fa07"
      },
      "source": [
        "import os\n",
        "import numpy as np\n",
        "from keras.preprocessing.image import ImageDataGenerator\n",
        "\n",
        "\n",
        "\n",
        "\n",
        "\n",
        "datagen = ImageDataGenerator(rescale=1./255)\n",
        "batch_size = 5\n",
        "\n",
        "def extract_features(directory, sample_count):\n",
        "    features = np.zeros(shape=(sample_count, 4, 4, 512))\n",
        "    labels = np.zeros(shape=(sample_count))\n",
        "    generator = datagen.flow_from_directory(\n",
        "        directory,\n",
        "        target_size=(150, 150),\n",
        "        batch_size=batch_size,\n",
        "        class_mode='binary')\n",
        "    i = 0\n",
        "    for inputs_batch, labels_batch in generator:\n",
        "        features_batch = conv_base.predict(inputs_batch)\n",
        "        features[i * batch_size : (i + 1) * batch_size] = features_batch\n",
        "        labels[i * batch_size : (i + 1) * batch_size] = labels_batch\n",
        "        i += 1\n",
        "        if i * batch_size >= sample_count:\n",
        "            # Note that since generators yield data indefinitely in a loop,\n",
        "            # we must `break` after every image has been seen once.\n",
        "            break\n",
        "    return features, labels\n",
        "\n",
        "train_features, train_labels = extract_features(train_dir, 188)\n",
        "validation_features, validation_labels = extract_features(validation_dir, 53)\n",
        "test_features, test_labels = extract_features(test_dir, 70)\n"
      ],
      "execution_count": null,
      "outputs": [
        {
          "output_type": "stream",
          "text": [
            "Found 188 images belonging to 2 classes.\n",
            "Found 53 images belonging to 2 classes.\n",
            "Found 70 images belonging to 2 classes.\n"
          ],
          "name": "stdout"
        }
      ]
    },
    {
      "cell_type": "code",
      "metadata": {
        "id": "OTCAkEeA57ml"
      },
      "source": [
        "train_features = np.reshape(train_features, (188, 4 * 4 * 512))\n",
        "validation_features = np.reshape(validation_features, (53, 4 * 4 * 512))\n",
        "test_features = np.reshape(test_features, (70, 4 * 4 * 512))"
      ],
      "execution_count": null,
      "outputs": []
    },
    {
      "cell_type": "code",
      "metadata": {
        "colab": {
          "base_uri": "https://localhost:8080/",
          "height": 1000
        },
        "id": "vo73hASjCtCr",
        "outputId": "1f6cb0ac-782f-4577-fd47-5f759fa48bc3"
      },
      "source": [
        "from keras import layers\n",
        "from keras import optimizers\n",
        "\n",
        "model = models.Sequential()\n",
        "model.add(layers.Dense(256, activation='relu', input_dim=4 * 4 * 512))\n",
        "model.add(layers.Dropout(0.5))\n",
        "model.add(layers.Dense(1, activation='sigmoid'))\n",
        "\n",
        "model.compile(optimizer=optimizers.RMSprop(lr=2e-5),\n",
        "              loss='binary_crossentropy',\n",
        "              metrics=['acc'])\n",
        "\n",
        "history = model.fit(train_features, train_labels,\n",
        "                    epochs=30,\n",
        "                    batch_size=5,\n",
        "                    validation_data=(validation_features, validation_labels))"
      ],
      "execution_count": null,
      "outputs": [
        {
          "output_type": "stream",
          "text": [
            "Epoch 1/30\n",
            "38/38 [==============================] - 0s 6ms/step - loss: 0.7365 - acc: 0.5426 - val_loss: 0.5779 - val_acc: 0.7736\n",
            "Epoch 2/30\n",
            "38/38 [==============================] - 0s 4ms/step - loss: 0.6782 - acc: 0.6011 - val_loss: 0.5335 - val_acc: 0.7736\n",
            "Epoch 3/30\n",
            "38/38 [==============================] - 0s 4ms/step - loss: 0.5790 - acc: 0.6915 - val_loss: 0.5104 - val_acc: 0.7547\n",
            "Epoch 4/30\n",
            "38/38 [==============================] - 0s 4ms/step - loss: 0.5353 - acc: 0.7766 - val_loss: 0.4937 - val_acc: 0.7736\n",
            "Epoch 5/30\n",
            "38/38 [==============================] - 0s 4ms/step - loss: 0.5226 - acc: 0.7660 - val_loss: 0.4631 - val_acc: 0.7736\n",
            "Epoch 6/30\n",
            "38/38 [==============================] - 0s 4ms/step - loss: 0.5158 - acc: 0.7500 - val_loss: 0.4482 - val_acc: 0.7736\n",
            "Epoch 7/30\n",
            "38/38 [==============================] - 0s 4ms/step - loss: 0.4402 - acc: 0.7819 - val_loss: 0.4346 - val_acc: 0.7547\n",
            "Epoch 8/30\n",
            "38/38 [==============================] - 0s 4ms/step - loss: 0.4269 - acc: 0.8085 - val_loss: 0.4278 - val_acc: 0.7736\n",
            "Epoch 9/30\n",
            "38/38 [==============================] - 0s 4ms/step - loss: 0.4163 - acc: 0.8404 - val_loss: 0.4242 - val_acc: 0.7736\n",
            "Epoch 10/30\n",
            "38/38 [==============================] - 0s 4ms/step - loss: 0.3966 - acc: 0.8298 - val_loss: 0.4208 - val_acc: 0.7925\n",
            "Epoch 11/30\n",
            "38/38 [==============================] - 0s 4ms/step - loss: 0.3791 - acc: 0.8351 - val_loss: 0.4184 - val_acc: 0.7736\n",
            "Epoch 12/30\n",
            "38/38 [==============================] - 0s 4ms/step - loss: 0.3545 - acc: 0.8670 - val_loss: 0.4138 - val_acc: 0.7925\n",
            "Epoch 13/30\n",
            "38/38 [==============================] - 0s 4ms/step - loss: 0.3685 - acc: 0.8298 - val_loss: 0.4109 - val_acc: 0.7925\n",
            "Epoch 14/30\n",
            "38/38 [==============================] - 0s 4ms/step - loss: 0.3427 - acc: 0.8723 - val_loss: 0.4046 - val_acc: 0.8113\n",
            "Epoch 15/30\n",
            "38/38 [==============================] - 0s 4ms/step - loss: 0.3331 - acc: 0.8723 - val_loss: 0.4020 - val_acc: 0.7925\n",
            "Epoch 16/30\n",
            "38/38 [==============================] - 0s 4ms/step - loss: 0.3274 - acc: 0.8936 - val_loss: 0.3969 - val_acc: 0.7925\n",
            "Epoch 17/30\n",
            "38/38 [==============================] - 0s 4ms/step - loss: 0.3209 - acc: 0.8617 - val_loss: 0.4010 - val_acc: 0.7736\n",
            "Epoch 18/30\n",
            "38/38 [==============================] - 0s 4ms/step - loss: 0.2926 - acc: 0.8883 - val_loss: 0.3918 - val_acc: 0.7925\n",
            "Epoch 19/30\n",
            "38/38 [==============================] - 0s 4ms/step - loss: 0.3164 - acc: 0.8883 - val_loss: 0.3877 - val_acc: 0.7925\n",
            "Epoch 20/30\n",
            "38/38 [==============================] - 0s 4ms/step - loss: 0.2882 - acc: 0.9096 - val_loss: 0.3851 - val_acc: 0.8113\n",
            "Epoch 21/30\n",
            "38/38 [==============================] - 0s 4ms/step - loss: 0.2691 - acc: 0.9043 - val_loss: 0.4308 - val_acc: 0.7925\n",
            "Epoch 22/30\n",
            "38/38 [==============================] - 0s 4ms/step - loss: 0.2742 - acc: 0.8936 - val_loss: 0.3816 - val_acc: 0.8113\n",
            "Epoch 23/30\n",
            "38/38 [==============================] - 0s 4ms/step - loss: 0.2785 - acc: 0.9202 - val_loss: 0.3850 - val_acc: 0.8113\n",
            "Epoch 24/30\n",
            "38/38 [==============================] - 0s 4ms/step - loss: 0.2702 - acc: 0.8989 - val_loss: 0.3872 - val_acc: 0.8113\n",
            "Epoch 25/30\n",
            "38/38 [==============================] - 0s 4ms/step - loss: 0.2652 - acc: 0.8936 - val_loss: 0.3779 - val_acc: 0.8113\n",
            "Epoch 26/30\n",
            "38/38 [==============================] - 0s 4ms/step - loss: 0.2440 - acc: 0.9202 - val_loss: 0.3848 - val_acc: 0.7925\n",
            "Epoch 27/30\n",
            "38/38 [==============================] - 0s 4ms/step - loss: 0.2422 - acc: 0.9309 - val_loss: 0.3785 - val_acc: 0.7925\n",
            "Epoch 28/30\n",
            "38/38 [==============================] - 0s 4ms/step - loss: 0.2300 - acc: 0.9362 - val_loss: 0.3720 - val_acc: 0.8113\n",
            "Epoch 29/30\n",
            "38/38 [==============================] - 0s 4ms/step - loss: 0.2347 - acc: 0.9149 - val_loss: 0.3695 - val_acc: 0.8302\n",
            "Epoch 30/30\n",
            "38/38 [==============================] - 0s 4ms/step - loss: 0.2162 - acc: 0.9415 - val_loss: 0.3680 - val_acc: 0.8113\n"
          ],
          "name": "stdout"
        }
      ]
    },
    {
      "cell_type": "code",
      "metadata": {
        "colab": {
          "base_uri": "https://localhost:8080/",
          "height": 545
        },
        "id": "x8FcwxIvDxcE",
        "outputId": "636ce0b0-33c0-4cff-88e4-79980d9a864e"
      },
      "source": [
        "import matplotlib.pyplot as plt\n",
        "\n",
        "acc = history.history['acc']\n",
        "val_acc = history.history['val_acc']\n",
        "loss = history.history['loss']\n",
        "val_loss = history.history['val_loss']\n",
        "\n",
        "epochs = range(len(acc))\n",
        "\n",
        "plt.plot(epochs, acc, 'bo', label='Training acc')\n",
        "plt.plot(epochs, val_acc, 'b', label='Validation acc')\n",
        "plt.title('Training and validation accuracy')\n",
        "plt.legend()\n",
        "\n",
        "plt.figure()\n",
        "\n",
        "plt.plot(epochs, loss, 'bo', label='Training loss')\n",
        "plt.plot(epochs, val_loss, 'b', label='Validation loss')\n",
        "plt.title('Training and validation loss')\n",
        "plt.legend()\n",
        "\n",
        "plt.show()"
      ],
      "execution_count": null,
      "outputs": [
        {
          "output_type": "display_data",
          "data": {
            "image/png": "[encoded data removed]",
            "text/plain": [
              "<Figure size 432x288 with 1 Axes>"
            ]
          },
          "metadata": {
            "tags": []
          }
        },
        {
          "output_type": "display_data",
          "data": {
            "image/png": "[encoded data removed]",
            "text/plain": [
              "<Figure size 432x288 with 1 Axes>"
            ]
          },
          "metadata": {
            "tags": []
          }
        }
      ]
    },
    {
      "cell_type": "code",
      "metadata": {
        "id": "mvNF722jE6sd"
      },
      "source": [
        "model.save('cats_and_dogs_small_2.h5')"
      ],
      "execution_count": null,
      "outputs": []
    },
    {
      "cell_type": "code",
      "metadata": {
        "id": "5RZYjZZmJi0E"
      },
      "source": [
        ""
      ],
      "execution_count": null,
      "outputs": []
    },
    {
      "cell_type": "code",
      "metadata": {
        "id": "AzPzR7uWJ1k_"
      },
      "source": [
        ""
      ],
      "execution_count": null,
      "outputs": []
    }
  ]
}